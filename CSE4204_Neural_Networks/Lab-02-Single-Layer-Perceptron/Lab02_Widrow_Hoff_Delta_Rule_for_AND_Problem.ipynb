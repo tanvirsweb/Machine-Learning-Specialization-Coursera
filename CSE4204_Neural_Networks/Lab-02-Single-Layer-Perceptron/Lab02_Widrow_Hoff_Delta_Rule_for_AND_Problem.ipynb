{
 "cells": [
  {
   "cell_type": "markdown",
   "metadata": {},
   "source": [
    "## Generate And gate data\n"
   ]
  },
  {
   "cell_type": "code",
   "execution_count": 81,
   "metadata": {},
   "outputs": [
    {
     "data": {
      "text/html": [
       "<div>\n",
       "<style scoped>\n",
       "    .dataframe tbody tr th:only-of-type {\n",
       "        vertical-align: middle;\n",
       "    }\n",
       "\n",
       "    .dataframe tbody tr th {\n",
       "        vertical-align: top;\n",
       "    }\n",
       "\n",
       "    .dataframe thead th {\n",
       "        text-align: right;\n",
       "    }\n",
       "</style>\n",
       "<table border=\"1\" class=\"dataframe\">\n",
       "  <thead>\n",
       "    <tr style=\"text-align: right;\">\n",
       "      <th></th>\n",
       "      <th>input_1</th>\n",
       "      <th>input_2</th>\n",
       "      <th>input_3</th>\n",
       "      <th>input_4</th>\n",
       "      <th>y_label</th>\n",
       "    </tr>\n",
       "  </thead>\n",
       "  <tbody>\n",
       "    <tr>\n",
       "      <th>0</th>\n",
       "      <td>0.5493</td>\n",
       "      <td>0.6217</td>\n",
       "      <td>0.6121</td>\n",
       "      <td>0.3815</td>\n",
       "      <td>0</td>\n",
       "    </tr>\n",
       "    <tr>\n",
       "      <th>1</th>\n",
       "      <td>0.5843</td>\n",
       "      <td>0.6314</td>\n",
       "      <td>0.1762</td>\n",
       "      <td>0.5983</td>\n",
       "      <td>0</td>\n",
       "    </tr>\n",
       "    <tr>\n",
       "      <th>2</th>\n",
       "      <td>0.6118</td>\n",
       "      <td>0.9195</td>\n",
       "      <td>0.7363</td>\n",
       "      <td>0.7130</td>\n",
       "      <td>1</td>\n",
       "    </tr>\n",
       "    <tr>\n",
       "      <th>3</th>\n",
       "      <td>0.8093</td>\n",
       "      <td>0.3170</td>\n",
       "      <td>0.6077</td>\n",
       "      <td>0.7166</td>\n",
       "      <td>0</td>\n",
       "    </tr>\n",
       "    <tr>\n",
       "      <th>4</th>\n",
       "      <td>0.3224</td>\n",
       "      <td>0.8702</td>\n",
       "      <td>0.6684</td>\n",
       "      <td>0.8663</td>\n",
       "      <td>0</td>\n",
       "    </tr>\n",
       "  </tbody>\n",
       "</table>\n",
       "</div>"
      ],
      "text/plain": [
       "   input_1  input_2  input_3  input_4  y_label\n",
       "0   0.5493   0.6217   0.6121   0.3815        0\n",
       "1   0.5843   0.6314   0.1762   0.5983        0\n",
       "2   0.6118   0.9195   0.7363   0.7130        1\n",
       "3   0.8093   0.3170   0.6077   0.7166        0\n",
       "4   0.3224   0.8702   0.6684   0.8663        0"
      ]
     },
     "metadata": {},
     "output_type": "display_data"
    },
    {
     "name": "stdout",
     "output_type": "stream",
     "text": [
      "Data saved to and_gate_data.csv\n"
     ]
    }
   ],
   "source": [
    "import pandas as pd\n",
    "import numpy as np\n",
    "\n",
    "def generate_and_gate_data(filename, num_rows=1024):\n",
    "    # Generate random input data between 0 and 1 for 5 columns\n",
    "    num_cols = 4\n",
    "    # input_data = np.random.rand(num_rows, num_cols)\n",
    "    # Generate random input data between 0 and 1, rounded to 4 decimal places\n",
    "    input_data = np.round(np.random.rand(num_rows, num_cols), 4)\n",
    "    \n",
    "    # Convert inputs to binary based on the threshold 0.5\n",
    "    binary_inputs = (input_data >= 0.5).astype(int)\n",
    "    \n",
    "    # Calculate the AND operation across the 5 input columns for y_label\n",
    "    y_label = np.all(binary_inputs == 1, axis=1).astype(int)\n",
    "    \n",
    "    # Create a DataFrame with the inputs and the label\n",
    "    df = pd.DataFrame(input_data, columns=[f\"input_{i+1}\" for i in range(num_cols)])\n",
    "    # df = pd.DataFrame(binary_inputs, columns=[f\"input_{i+1}\" for i in range(num_cols)])\n",
    "    df[\"y_label\"] = y_label\n",
    "    \n",
    "    display(df.head())\n",
    "    \n",
    "    # Save to a CSV file\n",
    "    df.to_csv(filename, index=False)\n",
    "    print(f\"Data saved to {filename}\")\n",
    "\n",
    "# Generate the data and save it to 'and_gate_data.csv'\n",
    "generate_and_gate_data(\"and_gate_data.csv\")\n"
   ]
  },
  {
   "cell_type": "markdown",
   "metadata": {},
   "source": [
    "## Perceptron Algorithm (3 approaches) on and gate dataset\n"
   ]
  },
  {
   "cell_type": "code",
   "execution_count": 18,
   "metadata": {},
   "outputs": [
    {
     "name": "stdout",
     "output_type": "stream",
     "text": [
      "Adapt Weights:\n",
      "Weights: [1.9988 1.4384 2.1839 1.5987]\n",
      "Bias: -5.299999999999931\n",
      "Accuracy: 96.10%\n",
      "Unique Labels: [0. 1.]\n",
      "Confusion Matrix:\n"
     ]
    },
    {
     "data": {
      "text/plain": [
       "array([[187,   6],\n",
       "       [  2,  10]], dtype=int64)"
      ]
     },
     "metadata": {},
     "output_type": "display_data"
    },
    {
     "data": {
      "text/plain": [
       "<Figure size 600x600 with 0 Axes>"
      ]
     },
     "metadata": {},
     "output_type": "display_data"
    },
    {
     "data": {
      "image/png": "[encoded data removed]",
      "text/plain": [
       "<Figure size 640x480 with 2 Axes>"
      ]
     },
     "metadata": {},
     "output_type": "display_data"
    },
    {
     "name": "stdout",
     "output_type": "stream",
     "text": [
      "Adapt Weights Modified:\n",
      "Weights: [0.057025 0.054518 0.051115 0.044245]\n",
      "Bias: -0.17\n",
      "Accuracy: 97.07%\n",
      "Unique Labels: [0. 1.]\n",
      "Confusion Matrix:\n"
     ]
    },
    {
     "data": {
      "text/plain": [
       "array([[193,   0],\n",
       "       [  6,   6]], dtype=int64)"
      ]
     },
     "metadata": {},
     "output_type": "display_data"
    },
    {
     "data": {
      "text/plain": [
       "<Figure size 600x600 with 0 Axes>"
      ]
     },
     "metadata": {},
     "output_type": "display_data"
    },
    {
     "data": {
      "image/png": "[encoded data removed]",
      "text/plain": [
       "<Figure size 640x480 with 2 Axes>"
      ]
     },
     "metadata": {},
     "output_type": "display_data"
    },
    {
     "name": "stdout",
     "output_type": "stream",
     "text": [
      "Widrow Hoff delta\n",
      "Weights: [0.057025 0.054518 0.051115 0.044245]\n",
      "Bias: -0.17\n",
      "Accuracy: 97.07%\n",
      "Unique Labels: [0. 1.]\n",
      "Confusion Matrix:\n"
     ]
    },
    {
     "data": {
      "text/plain": [
       "array([[193,   0],\n",
       "       [  6,   6]], dtype=int64)"
      ]
     },
     "metadata": {},
     "output_type": "display_data"
    },
    {
     "data": {
      "text/plain": [
       "<Figure size 600x600 with 0 Axes>"
      ]
     },
     "metadata": {},
     "output_type": "display_data"
    },
    {
     "data": {
      "image/png": "[encoded data removed]",
      "text/plain": [
       "<Figure size 640x480 with 2 Axes>"
      ]
     },
     "metadata": {},
     "output_type": "display_data"
    }
   ],
   "source": [
    "import numpy as np\n",
    "import pandas as pd\n",
    "import matplotlib.pyplot as plt\n",
    "from sklearn.model_selection import train_test_split\n",
    "from sklearn.metrics import accuracy_score, confusion_matrix, ConfusionMatrixDisplay\n",
    "\n",
    "class Perceptron:\n",
    "    def __init__(self, method):\n",
    "        self.method = method\n",
    "    \n",
    "    # Activation function\n",
    "    def sign_function(self, x):\n",
    "        return 1 if x >= 0 else 0\n",
    "    \n",
    "    # Perceptron learning algorithm\n",
    "    def perceptron_learning(self, X, y, lr=0.01, epochs=100):\n",
    "        weights = np.zeros(X.shape[1])\n",
    "        bias = 0\n",
    "        for _ in range(epochs):\n",
    "            for xi, target in zip(X, y):\n",
    "                output = self.sign_function(np.dot(weights, xi) + bias)  \n",
    "                \n",
    "                # 'Adapt Weights'\n",
    "                if self.method == 1:              \n",
    "                    if output == 0 and target == 1:\n",
    "                        weights += xi\n",
    "                    if output == 1 and target == 0:\n",
    "                        weights -= xi\n",
    "                # 'Adapt Weights Modified'   \n",
    "                elif self.method == 2:\n",
    "                    if output == 0 and target == 1:\n",
    "                        weights += lr*xi\n",
    "                    if output == 1 and target == 0:\n",
    "                        weights -= lr*xi   \n",
    "                # 'Widrow Hoff delta'\n",
    "                elif self.method == 3:\n",
    "                    weights += lr*(target - output)*xi\n",
    "                \n",
    "                bias += lr * (target - output)\n",
    "        return weights, bias\n",
    "    \n",
    "    # Training\n",
    "    def train(self, X, y, epoch=100):\n",
    "        self.weights, self.bias = self.perceptron_learning(X, y, epochs=epoch)\n",
    "        print(\"Weights:\", self.weights)\n",
    "        print(\"Bias:\", self.bias)\n",
    "        \n",
    "    def test(self, X, y):\n",
    "        # Testing\n",
    "        output = []\n",
    "        for xi in X:\n",
    "            predicted = self.sign_function(np.dot(self.weights, xi) + self.bias)\n",
    "            output.append(predicted)\n",
    "        return np.array(output)\n",
    "\n",
    "# Load the dataset\n",
    "# df = pd.read_csv(\"and_gate_7_columns.csv\")\n",
    "# df = pd.read_csv(\"and_gate_3_col_table.csv\")\n",
    "df = pd.read_csv('and_gate_data.csv')\n",
    "\n",
    "# Split data into features (X) and target (y)\n",
    "X = df.iloc[:, :-1]  # All columns except the last one\n",
    "y = df.iloc[:, -1]   # The last column (Output)\n",
    "\n",
    "def train_evaluate_Perceptron(method, X, y):\n",
    "    # Split the dataset into training and testing sets (80% train, 20% test)\n",
    "    X_train, X_test, y_train, y_test = train_test_split(X, y, test_size=0.2, random_state=42)\n",
    "\n",
    "    # Convert X_train and X_test to NumPy arrays\n",
    "    X_train_np = X_train.to_numpy()\n",
    "    X_test_np = X_test.to_numpy()\n",
    "\n",
    "    # Train and test the perceptron\n",
    "    p = Perceptron(method=method)\n",
    "    p.train(X_train_np, y_train.to_numpy())  # Ensure y_train is also converted to NumPy\n",
    "    y_pred = p.test(X_test_np, y_test.to_numpy())  # Ensure y_test is converted to NumPy\n",
    "\n",
    "    # Calculate accuracy\n",
    "    accuracy = accuracy_score(y_test, y_pred)\n",
    "    print(f\"Accuracy: {accuracy * 100:.2f}%\")\n",
    "\n",
    "\n",
    "    # Extract unique labels from the test set for dynamic display\n",
    "    # unique_labels = np.unique(np.concatenate([y_test, y_pred]))\n",
    "    unique_labels = np.array([0., 1.])\n",
    "    print(f\"Unique Labels: {unique_labels}\")\n",
    "    \n",
    "    # Compute the confusion matrix\n",
    "    conf_matrix = confusion_matrix(y_test, y_pred, labels=unique_labels)\n",
    "    print(\"Confusion Matrix:\")\n",
    "    display(conf_matrix)\n",
    "\n",
    "    # Plot Confusion Matrix\n",
    "    plt.figure(figsize=(6, 6))\n",
    "    ConfusionMatrixDisplay(confusion_matrix=conf_matrix, \n",
    "                           display_labels=unique_labels\n",
    "                           ).plot(cmap=\"cividis\", values_format='d', colorbar=True)\n",
    "    plt.title(\"Confusion Matrix\")\n",
    "    plt.show()\n",
    "\n",
    "\n",
    "print('Adapt Weights:')    \n",
    "train_evaluate_Perceptron(1, X, y)\n",
    "print('Adapt Weights Modified:')\n",
    "train_evaluate_Perceptron(2, X, y)\n",
    "print('Widrow Hoff delta')\n",
    "train_evaluate_Perceptron(3, X, y)"
   ]
  },
  {
   "cell_type": "markdown",
   "metadata": {},
   "source": [
    "## 1st Way: Basic Perceptron Learning Algorithm\n"
   ]
  },
  {
   "cell_type": "code",
   "execution_count": 84,
   "metadata": {},
   "outputs": [
    {
     "name": "stdout",
     "output_type": "stream",
     "text": [
      "Weights: [1. 1.]\n",
      "Bias: -1.2\n",
      "Accuracy: 1.0\n",
      "\n",
      "Results DataFrame:\n"
     ]
    },
    {
     "data": {
      "text/html": [
       "<div>\n",
       "<style scoped>\n",
       "    .dataframe tbody tr th:only-of-type {\n",
       "        vertical-align: middle;\n",
       "    }\n",
       "\n",
       "    .dataframe tbody tr th {\n",
       "        vertical-align: top;\n",
       "    }\n",
       "\n",
       "    .dataframe thead th {\n",
       "        text-align: right;\n",
       "    }\n",
       "</style>\n",
       "<table border=\"1\" class=\"dataframe\">\n",
       "  <thead>\n",
       "    <tr style=\"text-align: right;\">\n",
       "      <th></th>\n",
       "      <th>Input1</th>\n",
       "      <th>Input2</th>\n",
       "      <th>Actual Output</th>\n",
       "      <th>Predicted Output</th>\n",
       "    </tr>\n",
       "  </thead>\n",
       "  <tbody>\n",
       "    <tr>\n",
       "      <th>0</th>\n",
       "      <td>0</td>\n",
       "      <td>0</td>\n",
       "      <td>0</td>\n",
       "      <td>0</td>\n",
       "    </tr>\n",
       "    <tr>\n",
       "      <th>1</th>\n",
       "      <td>0</td>\n",
       "      <td>1</td>\n",
       "      <td>0</td>\n",
       "      <td>0</td>\n",
       "    </tr>\n",
       "    <tr>\n",
       "      <th>2</th>\n",
       "      <td>1</td>\n",
       "      <td>0</td>\n",
       "      <td>0</td>\n",
       "      <td>0</td>\n",
       "    </tr>\n",
       "    <tr>\n",
       "      <th>3</th>\n",
       "      <td>1</td>\n",
       "      <td>1</td>\n",
       "      <td>1</td>\n",
       "      <td>1</td>\n",
       "    </tr>\n",
       "  </tbody>\n",
       "</table>\n",
       "</div>"
      ],
      "text/plain": [
       "   Input1  Input2  Actual Output  Predicted Output\n",
       "0       0       0              0                 0\n",
       "1       0       1              0                 0\n",
       "2       1       0              0                 0\n",
       "3       1       1              1                 1"
      ]
     },
     "metadata": {},
     "output_type": "display_data"
    },
    {
     "data": {
      "text/plain": [
       "<Figure size 600x600 with 0 Axes>"
      ]
     },
     "metadata": {},
     "output_type": "display_data"
    },
    {
     "data": {
      "image/png": "[encoded data removed]",
      "text/plain": [
       "<Figure size 640x480 with 2 Axes>"
      ]
     },
     "metadata": {},
     "output_type": "display_data"
    }
   ],
   "source": [
    "import numpy as np\n",
    "import pandas as pd\n",
    "import seaborn as sns\n",
    "import matplotlib.pyplot as plt\n",
    "from sklearn.metrics import confusion_matrix, ConfusionMatrixDisplay\n",
    "\n",
    "# Activation function\n",
    "def sign_function(x):\n",
    "    return 1 if x >= 0 else 0\n",
    "\n",
    "# Perceptron learning algorithm\n",
    "def perceptron_learning(X, y, lr=0.1, epochs=100):\n",
    "    weights = np.zeros(X.shape[1])\n",
    "    bias = 0\n",
    "\n",
    "    for _ in range(epochs):\n",
    "        for xi, target in zip(X, y):\n",
    "            output = sign_function(np.dot(weights, xi) + bias)\n",
    "            \n",
    "            if output==0 and target==1:\n",
    "                weights += xi\n",
    "            if output==1 and target==0:\n",
    "                weights -= xi\n",
    "                \n",
    "            bias += lr * (target - output)\n",
    "\n",
    "    return weights, bias\n",
    "\n",
    "# AND gate dataset\n",
    "X = np.array([[0, 0], \n",
    "              [0, 1], \n",
    "              [1, 0], \n",
    "              [1, 1]])\n",
    "y = np.array([0, 0, 0, 1])\n",
    "\n",
    "# Training\n",
    "weights, bias = perceptron_learning(X, y)\n",
    "\n",
    "print(\"Weights:\", weights)\n",
    "print(\"Bias:\", bias)\n",
    "\n",
    "# Testing\n",
    "output = []\n",
    "right_no = 0\n",
    "total = 0\n",
    "for xi, target in zip(X, y):\n",
    "    predicted = sign_function(np.dot(weights, xi) + bias)\n",
    "    output.append( predicted ) \n",
    "    if predicted == target:\n",
    "        right_no += 1\n",
    "print(f\"Accuracy: {right_no/y.shape[0]}\")\n",
    "    \n",
    "results_df = pd.DataFrame({\n",
    "    \"Input1\": X[:, 0],\n",
    "    \"Input2\": X[:, 1],\n",
    "    \"Actual Output\": y,\n",
    "    \"Predicted Output\": output\n",
    "})\n",
    "\n",
    "print(\"\\nResults DataFrame:\")\n",
    "display(results_df)\n",
    "\n",
    "\n",
    "# Generate Confusion Matrix\n",
    "cm = confusion_matrix(y, output)\n",
    "cm_display = ConfusionMatrixDisplay(confusion_matrix=cm, display_labels=[0, 1])\n",
    "\n",
    "# Plot Confusion Matrix\n",
    "plt.figure(figsize=(6, 6))\n",
    "cm_display.plot(cmap=\"Blues\", values_format='d')\n",
    "plt.title(\"Confusion Matrix\")\n",
    "plt.show()\n"
   ]
  },
  {
   "cell_type": "markdown",
   "metadata": {},
   "source": [
    "## 2nd Way: Perceptron with Learning Rate Decay\n"
   ]
  },
  {
   "cell_type": "code",
   "execution_count": 2,
   "metadata": {},
   "outputs": [
    {
     "name": "stdout",
     "output_type": "stream",
     "text": [
      "Weights: [0.10839327 0.19424129]\n",
      "Bias: -0.2866950579431708\n",
      "Accuracy: 1.0\n",
      "\n",
      "Results DataFrame:\n"
     ]
    },
    {
     "data": {
      "text/html": [
       "<div>\n",
       "<style scoped>\n",
       "    .dataframe tbody tr th:only-of-type {\n",
       "        vertical-align: middle;\n",
       "    }\n",
       "\n",
       "    .dataframe tbody tr th {\n",
       "        vertical-align: top;\n",
       "    }\n",
       "\n",
       "    .dataframe thead th {\n",
       "        text-align: right;\n",
       "    }\n",
       "</style>\n",
       "<table border=\"1\" class=\"dataframe\">\n",
       "  <thead>\n",
       "    <tr style=\"text-align: right;\">\n",
       "      <th></th>\n",
       "      <th>Input1</th>\n",
       "      <th>Input2</th>\n",
       "      <th>Actual Output</th>\n",
       "      <th>Predicted Output</th>\n",
       "    </tr>\n",
       "  </thead>\n",
       "  <tbody>\n",
       "    <tr>\n",
       "      <th>0</th>\n",
       "      <td>0</td>\n",
       "      <td>0</td>\n",
       "      <td>0</td>\n",
       "      <td>0</td>\n",
       "    </tr>\n",
       "    <tr>\n",
       "      <th>1</th>\n",
       "      <td>0</td>\n",
       "      <td>1</td>\n",
       "      <td>0</td>\n",
       "      <td>0</td>\n",
       "    </tr>\n",
       "    <tr>\n",
       "      <th>2</th>\n",
       "      <td>1</td>\n",
       "      <td>0</td>\n",
       "      <td>0</td>\n",
       "      <td>0</td>\n",
       "    </tr>\n",
       "    <tr>\n",
       "      <th>3</th>\n",
       "      <td>1</td>\n",
       "      <td>1</td>\n",
       "      <td>1</td>\n",
       "      <td>1</td>\n",
       "    </tr>\n",
       "  </tbody>\n",
       "</table>\n",
       "</div>"
      ],
      "text/plain": [
       "   Input1  Input2  Actual Output  Predicted Output\n",
       "0       0       0              0                 0\n",
       "1       0       1              0                 0\n",
       "2       1       0              0                 0\n",
       "3       1       1              1                 1"
      ]
     },
     "metadata": {},
     "output_type": "display_data"
    },
    {
     "data": {
      "text/plain": [
       "<Figure size 600x600 with 0 Axes>"
      ]
     },
     "metadata": {},
     "output_type": "display_data"
    },
    {
     "data": {
      "image/png": "[encoded data removed]",
      "text/plain": [
       "<Figure size 640x480 with 2 Axes>"
      ]
     },
     "metadata": {},
     "output_type": "display_data"
    }
   ],
   "source": [
    "# Perceptron with Learning Rate Decay\n",
    "def perceptron_with_lr_decay(X, y, lr=0.1, decay=0.01, epochs=100):\n",
    "    weights = np.zeros(X.shape[1])\n",
    "    bias = 0\n",
    "\n",
    "    for epoch in range(epochs):\n",
    "        lr = lr / (1 + decay * epoch)  # Adjust learning rate\n",
    "        for xi, target in zip(X, y):\n",
    "            output = sign_function(np.dot(weights, xi) + bias)\n",
    "            error = target - output\n",
    "            if output==0 and target==1:\n",
    "                weights += lr*xi\n",
    "            if output==1 and target==0:\n",
    "                weights -= lr*xi\n",
    "            bias += lr * error\n",
    "\n",
    "    return weights, bias\n",
    "\n",
    "# AND gate dataset\n",
    "X = np.array([[0, 0], \n",
    "              [0, 1], \n",
    "              [1, 0], \n",
    "              [1, 1]])\n",
    "y = np.array([0, 0, 0, 1])\n",
    "\n",
    "# Training\n",
    "weights, bias = perceptron_with_lr_decay(X, y)\n",
    "\n",
    "print(\"Weights:\", weights)\n",
    "print(\"Bias:\", bias)\n",
    "\n",
    "# Testing\n",
    "output = []\n",
    "right_no = 0\n",
    "total = 0\n",
    "for xi, target in zip(X, y):\n",
    "    predicted = sign_function(np.dot(weights, xi) + bias)\n",
    "    output.append( predicted ) \n",
    "    if predicted == target:\n",
    "        right_no += 1\n",
    "print(f\"Accuracy: {right_no/y.shape[0]}\")\n",
    "    \n",
    "results_df = pd.DataFrame({\n",
    "    \"Input1\": X[:, 0],\n",
    "    \"Input2\": X[:, 1],\n",
    "    \"Actual Output\": y,\n",
    "    \"Predicted Output\": output\n",
    "})\n",
    "\n",
    "print(\"\\nResults DataFrame:\")\n",
    "display(results_df)\n",
    "\n",
    "# Generate Confusion Matrix\n",
    "cm = confusion_matrix(y, output)\n",
    "cm_display = ConfusionMatrixDisplay(confusion_matrix=cm, display_labels=[0, 1])\n",
    "\n",
    "# Plot Confusion Matrix\n",
    "plt.figure(figsize=(6, 6))\n",
    "cm_display.plot(cmap=\"Blues\", values_format='d')\n",
    "plt.title(\"Confusion Matrix\")\n",
    "plt.show()\n",
    "\n"
   ]
  },
  {
   "cell_type": "markdown",
   "metadata": {},
   "source": [
    "## 3rd Way: Widrow-Hoff Delta Rule for AND Problem\n"
   ]
  },
  {
   "cell_type": "code",
   "execution_count": 3,
   "metadata": {},
   "outputs": [
    {
     "name": "stdout",
     "output_type": "stream",
     "text": [
      "Accuracy: 1.0\n",
      "\n",
      "Results DataFrame:\n"
     ]
    },
    {
     "data": {
      "text/html": [
       "<div>\n",
       "<style scoped>\n",
       "    .dataframe tbody tr th:only-of-type {\n",
       "        vertical-align: middle;\n",
       "    }\n",
       "\n",
       "    .dataframe tbody tr th {\n",
       "        vertical-align: top;\n",
       "    }\n",
       "\n",
       "    .dataframe thead th {\n",
       "        text-align: right;\n",
       "    }\n",
       "</style>\n",
       "<table border=\"1\" class=\"dataframe\">\n",
       "  <thead>\n",
       "    <tr style=\"text-align: right;\">\n",
       "      <th></th>\n",
       "      <th>Input1</th>\n",
       "      <th>Input2</th>\n",
       "      <th>Actual Output</th>\n",
       "      <th>Predicted Output</th>\n",
       "    </tr>\n",
       "  </thead>\n",
       "  <tbody>\n",
       "    <tr>\n",
       "      <th>0</th>\n",
       "      <td>0</td>\n",
       "      <td>0</td>\n",
       "      <td>0</td>\n",
       "      <td>0</td>\n",
       "    </tr>\n",
       "    <tr>\n",
       "      <th>1</th>\n",
       "      <td>0</td>\n",
       "      <td>1</td>\n",
       "      <td>0</td>\n",
       "      <td>0</td>\n",
       "    </tr>\n",
       "    <tr>\n",
       "      <th>2</th>\n",
       "      <td>1</td>\n",
       "      <td>0</td>\n",
       "      <td>0</td>\n",
       "      <td>0</td>\n",
       "    </tr>\n",
       "    <tr>\n",
       "      <th>3</th>\n",
       "      <td>1</td>\n",
       "      <td>1</td>\n",
       "      <td>1</td>\n",
       "      <td>1</td>\n",
       "    </tr>\n",
       "  </tbody>\n",
       "</table>\n",
       "</div>"
      ],
      "text/plain": [
       "   Input1  Input2  Actual Output  Predicted Output\n",
       "0       0       0              0                 0\n",
       "1       0       1              0                 0\n",
       "2       1       0              0                 0\n",
       "3       1       1              1                 1"
      ]
     },
     "metadata": {},
     "output_type": "display_data"
    },
    {
     "data": {
      "text/plain": [
       "<Figure size 600x600 with 0 Axes>"
      ]
     },
     "metadata": {},
     "output_type": "display_data"
    },
    {
     "data": {
      "image/png": "[encoded data removed]",
      "text/plain": [
       "<Figure size 640x480 with 2 Axes>"
      ]
     },
     "metadata": {},
     "output_type": "display_data"
    }
   ],
   "source": [
    "import numpy as np\n",
    "import pandas as pd\n",
    "import seaborn as sns\n",
    "import matplotlib.pyplot as plt\n",
    "from sklearn.metrics import confusion_matrix, ConfusionMatrixDisplay\n",
    "\n",
    "# Activation function (linear for Widrow-Hoff)\n",
    "def linear_function(x):\n",
    "    return x  # Linear activation for Widrow-Hoff\n",
    "\n",
    "# Widrow-Hoff Delta Rule implementation\n",
    "def widrow_hoff_delta(X, y, lr=0.1, epochs=100):\n",
    "    weights = np.zeros(X.shape[1])  # Initialize weights\n",
    "    bias = 0  # Initialize bias\n",
    "    \n",
    "    for _ in range(epochs):\n",
    "        for xi, target in zip(X, y):\n",
    "            output = linear_function(np.dot(weights, xi) + bias)\n",
    "            error = target - output\n",
    "            weights += lr * error * xi  # Update weights\n",
    "            bias += lr * error          # Update bias\n",
    "    \n",
    "    return weights, bias\n",
    "\n",
    "# AND gate dataset\n",
    "X = np.array([\n",
    "    [0, 0],\n",
    "    [0, 1],\n",
    "    [1, 0],\n",
    "    [1, 1]\n",
    "])\n",
    "y = np.array([0, 0, 0, 1])  # Expected outputs for AND logic\n",
    "\n",
    "# Hyperparameters\n",
    "learning_rate = 0.1\n",
    "epochs = 100\n",
    "\n",
    "# Training using Widrow-Hoff Delta Rule\n",
    "weights, bias = widrow_hoff_delta(X, y, lr=learning_rate, epochs=epochs)\n",
    "\n",
    "# Testing the trained perceptron\n",
    "predictions = []\n",
    "right_no = 0\n",
    "for xi, target in zip(X, y):\n",
    "    # for xi in X:\n",
    "    output = linear_function(np.dot(weights, xi) + bias)\n",
    "    prediction = 1 if output >= 0.5 else 0  # Threshold to classify\n",
    "    predictions.append(prediction)\n",
    "    if prediction == target:\n",
    "        right_no += 1\n",
    "        \n",
    "print(f\"Accuracy: {right_no/y.shape[0]}\")\n",
    "\n",
    "# Create a DataFrame for comparison\n",
    "results_df = pd.DataFrame({\n",
    "    \"Input1\": X[:, 0],\n",
    "    \"Input2\": X[:, 1],\n",
    "    \"Actual Output\": y,\n",
    "    \"Predicted Output\": predictions\n",
    "})\n",
    "\n",
    "print(\"\\nResults DataFrame:\")\n",
    "display(results_df)\n",
    "\n",
    "# Generate Confusion Matrix\n",
    "cm = confusion_matrix(y, predictions)\n",
    "cm_display = ConfusionMatrixDisplay(confusion_matrix=cm, display_labels=[0, 1])\n",
    "\n",
    "# Plot Confusion Matrix\n",
    "plt.figure(figsize=(6, 6))\n",
    "cm_display.plot(cmap=\"Blues\", values_format='d')\n",
    "plt.title(\"Confusion Matrix\")\n",
    "plt.show()\n"
   ]
  },
  {
   "cell_type": "markdown",
   "metadata": {},
   "source": [
    "# Diabetics Dataset\n"
   ]
  },
  {
   "cell_type": "code",
   "execution_count": 4,
   "metadata": {},
   "outputs": [
    {
     "data": {
      "text/html": [
       "<div>\n",
       "<style scoped>\n",
       "    .dataframe tbody tr th:only-of-type {\n",
       "        vertical-align: middle;\n",
       "    }\n",
       "\n",
       "    .dataframe tbody tr th {\n",
       "        vertical-align: top;\n",
       "    }\n",
       "\n",
       "    .dataframe thead th {\n",
       "        text-align: right;\n",
       "    }\n",
       "</style>\n",
       "<table border=\"1\" class=\"dataframe\">\n",
       "  <thead>\n",
       "    <tr style=\"text-align: right;\">\n",
       "      <th></th>\n",
       "      <th>Pregnancies</th>\n",
       "      <th>Glucose</th>\n",
       "      <th>BloodPressure</th>\n",
       "      <th>SkinThickness</th>\n",
       "      <th>Insulin</th>\n",
       "      <th>BMI</th>\n",
       "      <th>DiabetesPedigreeFunction</th>\n",
       "      <th>Age</th>\n",
       "      <th>Outcome</th>\n",
       "    </tr>\n",
       "  </thead>\n",
       "  <tbody>\n",
       "    <tr>\n",
       "      <th>0</th>\n",
       "      <td>6</td>\n",
       "      <td>148</td>\n",
       "      <td>72</td>\n",
       "      <td>35</td>\n",
       "      <td>0</td>\n",
       "      <td>33.6</td>\n",
       "      <td>0.627</td>\n",
       "      <td>50</td>\n",
       "      <td>1</td>\n",
       "    </tr>\n",
       "    <tr>\n",
       "      <th>1</th>\n",
       "      <td>1</td>\n",
       "      <td>85</td>\n",
       "      <td>66</td>\n",
       "      <td>29</td>\n",
       "      <td>0</td>\n",
       "      <td>26.6</td>\n",
       "      <td>0.351</td>\n",
       "      <td>31</td>\n",
       "      <td>0</td>\n",
       "    </tr>\n",
       "    <tr>\n",
       "      <th>2</th>\n",
       "      <td>8</td>\n",
       "      <td>183</td>\n",
       "      <td>64</td>\n",
       "      <td>0</td>\n",
       "      <td>0</td>\n",
       "      <td>23.3</td>\n",
       "      <td>0.672</td>\n",
       "      <td>32</td>\n",
       "      <td>1</td>\n",
       "    </tr>\n",
       "    <tr>\n",
       "      <th>3</th>\n",
       "      <td>1</td>\n",
       "      <td>89</td>\n",
       "      <td>66</td>\n",
       "      <td>23</td>\n",
       "      <td>94</td>\n",
       "      <td>28.1</td>\n",
       "      <td>0.167</td>\n",
       "      <td>21</td>\n",
       "      <td>0</td>\n",
       "    </tr>\n",
       "    <tr>\n",
       "      <th>4</th>\n",
       "      <td>0</td>\n",
       "      <td>137</td>\n",
       "      <td>40</td>\n",
       "      <td>35</td>\n",
       "      <td>168</td>\n",
       "      <td>43.1</td>\n",
       "      <td>2.288</td>\n",
       "      <td>33</td>\n",
       "      <td>1</td>\n",
       "    </tr>\n",
       "  </tbody>\n",
       "</table>\n",
       "</div>"
      ],
      "text/plain": [
       "   Pregnancies  Glucose  BloodPressure  SkinThickness  Insulin   BMI  \\\n",
       "0            6      148             72             35        0  33.6   \n",
       "1            1       85             66             29        0  26.6   \n",
       "2            8      183             64              0        0  23.3   \n",
       "3            1       89             66             23       94  28.1   \n",
       "4            0      137             40             35      168  43.1   \n",
       "\n",
       "   DiabetesPedigreeFunction  Age  Outcome  \n",
       "0                     0.627   50        1  \n",
       "1                     0.351   31        0  \n",
       "2                     0.672   32        1  \n",
       "3                     0.167   21        0  \n",
       "4                     2.288   33        1  "
      ]
     },
     "metadata": {},
     "output_type": "display_data"
    },
    {
     "name": "stdout",
     "output_type": "stream",
     "text": [
      "   Accuracy\n",
      "0  0.766234\n"
     ]
    },
    {
     "data": {
      "image/png": "[encoded data removed]",
      "text/plain": [
       "<Figure size 600x500 with 2 Axes>"
      ]
     },
     "metadata": {},
     "output_type": "display_data"
    }
   ],
   "source": [
    "import numpy as np\n",
    "import pandas as pd\n",
    "import matplotlib.pyplot as plt\n",
    "import seaborn as sns\n",
    "from sklearn.model_selection import train_test_split\n",
    "from sklearn.preprocessing import StandardScaler\n",
    "from sklearn.metrics import confusion_matrix, accuracy_score\n",
    "\n",
    "# Load the Pima Indians Diabetes dataset\n",
    "url = \"https://raw.githubusercontent.com/jbrownlee/Datasets/master/pima-indians-diabetes.data.csv\"\n",
    "columns = ['Pregnancies', 'Glucose', 'BloodPressure', 'SkinThickness', 'Insulin', 'BMI', 'DiabetesPedigreeFunction', 'Age', 'Outcome']\n",
    "data = pd.read_csv(url, header=None, names=columns)\n",
    "display(data.head())\n",
    "\n",
    "# Features and target variable\n",
    "X = data.drop('Outcome', axis=1).values\n",
    "y = data['Outcome'].values\n",
    "\n",
    "# Split the data into training and testing sets\n",
    "X_train, X_test, y_train, y_test = train_test_split(X, y, test_size=0.2, random_state=42)\n",
    "\n",
    "# Standardize the data\n",
    "scaler = StandardScaler()\n",
    "X_train = scaler.fit_transform(X_train)\n",
    "\n",
    "X_test = scaler.transform(X_test)\n",
    "\n",
    "# Perceptron Algorithm Implementation (from scratch)\n",
    "class Perceptron:\n",
    "    def __init__(self, learning_rate=0.01, epochs=1000):\n",
    "        self.learning_rate = learning_rate\n",
    "        self.epochs = epochs\n",
    "        self.weights = None\n",
    "        self.bias = 0\n",
    "\n",
    "    def fit(self, X, y):\n",
    "        # Initialize weights\n",
    "        self.weights = np.zeros(X.shape[1])\n",
    "        \n",
    "        for epoch in range(self.epochs):\n",
    "            for i in range(X.shape[0]):\n",
    "                # Linear output\n",
    "                linear_output = np.dot(X[i], self.weights) + self.bias\n",
    "                # Activation function (Heaviside step function)\n",
    "                prediction = 1 if linear_output >= 0 else 0\n",
    "                # Update weights and bias if there's a mistake\n",
    "                if prediction != y[i]:\n",
    "                    update = self.learning_rate * (y[i] - prediction)\n",
    "                    self.weights += update * X[i]\n",
    "                    self.bias += update\n",
    "\n",
    "    def predict(self, X):\n",
    "        linear_output = np.dot(X, self.weights) + self.bias\n",
    "        return np.where(linear_output >= 0, 1, 0)\n",
    "\n",
    "# Initialize and train Perceptron model\n",
    "perceptron = Perceptron(learning_rate=0.01, epochs=1000)\n",
    "perceptron.fit(X_train, y_train)\n",
    "\n",
    "# Predictions on the test set\n",
    "y_pred = perceptron.predict(X_test)\n",
    "\n",
    "# Calculate accuracy\n",
    "accuracy = accuracy_score(y_test, y_pred)\n",
    "\n",
    "# Display accuracy in a Pandas DataFrame\n",
    "accuracy_df = pd.DataFrame({'Accuracy': [accuracy]})\n",
    "print(accuracy_df)\n",
    "\n",
    "# Compute confusion matrix\n",
    "conf_matrix = confusion_matrix(y_test, y_pred)\n",
    "\n",
    "# Plot confusion matrix\n",
    "plt.figure(figsize=(6, 5))\n",
    "sns.heatmap(conf_matrix, annot=True, fmt='d', cmap='Blues', xticklabels=['No Diabetes', 'Diabetes'], yticklabels=['No Diabetes', 'Diabetes'])\n",
    "plt.title('Confusion Matrix')\n",
    "plt.ylabel('True label')\n",
    "plt.xlabel('Predicted label')\n",
    "plt.show()\n"
   ]
  }
 ],
 "metadata": {
  "kernelspec": {
   "display_name": "Python 3",
   "language": "python",
   "name": "python3"
  },
  "language_info": {
   "codemirror_mode": {
    "name": "ipython",
    "version": 3
   },
   "file_extension": ".py",
   "mimetype": "text/x-python",
   "name": "python",
   "nbconvert_exporter": "python",
   "pygments_lexer": "ipython3",
   "version": "3.12.7"
  }
 },
 "nbformat": 4,
 "nbformat_minor": 2
}
