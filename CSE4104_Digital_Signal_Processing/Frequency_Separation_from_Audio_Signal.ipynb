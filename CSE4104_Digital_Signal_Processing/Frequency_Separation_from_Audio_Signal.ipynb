{
  "nbformat": 4,
  "nbformat_minor": 0,
  "metadata": {
    "colab": {
      "provenance": []
    },
    "kernelspec": {
      "name": "python3",
      "display_name": "Python 3"
    },
    "language_info": {
      "name": "python"
    }
  },
  "cells": [
    {
      "cell_type": "code",
      "execution_count": null,
      "metadata": {
        "colab": {
          "base_uri": "https://localhost:8080/"
        },
        "id": "jEYN0jkwkB4t",
        "outputId": "e8953462-7102-45c5-9862-afb6be3a5a31"
      },
      "outputs": [
        {
          "output_type": "stream",
          "name": "stdout",
          "text": [
            "Collecting pydub\n",
            "  Downloading pydub-0.25.1-py2.py3-none-any.whl.metadata (1.4 kB)\n",
            "Downloading pydub-0.25.1-py2.py3-none-any.whl (32 kB)\n",
            "Installing collected packages: pydub\n",
            "Successfully installed pydub-0.25.1\n"
          ]
        }
      ],
      "source": [
        "! pip install pydub"
      ]
    },
    {
      "cell_type": "code",
      "source": [
        "from pydub import AudioSegment\n",
        "import numpy as np\n",
        "import matplotlib.pyplot as plt\n",
        "from scipy.fft import fft\n",
        "\n",
        "# Load audio signal\n",
        "path = \"/content/drive/MyDrive/Colab Notebooks/sound.mp3\"\n",
        "audio = AudioSegment.from_file(path, format=\"mp3\")\n",
        "samples = np.array(audio.get_array_of_samples())\n",
        "fs = audio.frame_rate\n",
        "print('fs: ',fs)\n",
        "\n",
        "# Perform FFT\n",
        "fft_out = fft(samples)\n",
        "\n",
        "# Plot the frequency spectrum\n",
        "magnitude = np.abs(fft_out)\n",
        "frequency = np.linspace(0, fs, len(magnitude))\n",
        "\n",
        "plt.plot(frequency, magnitude)\n",
        "plt.xlabel(\"Frequency (Hz)\")\n",
        "plt.ylabel(\"Amplitude\")\n",
        "plt.show()\n",
        "\n",
        "# Define the frequency range for each fundamental frequency\n",
        "fundamental_frequencies = [100, 200, 300, 400, 500]\n",
        "frequency_ranges = [(f - 10, f + 10) for f in fundamental_frequencies]\n",
        "\n",
        "# Separate the different frequencies\n",
        "frequency_components = []\n",
        "for low, high in frequency_ranges:\n",
        "    index_range = np.logical_and(frequency >= low, frequency <= high)\n",
        "    frequency_component = magnitude[index_range]\n",
        "    frequency_components.append(frequency_component)\n",
        "\n",
        "# Output each of the fundamental frequencies\n",
        "for i, (low, high) in enumerate(frequency_ranges):\n",
        "    component = frequency_components[i]\n",
        "    index_max = np.argmax(component)\n",
        "    frequency_max = frequency[index_max]\n",
        "    amplitude_max = component[index_max]\n",
        "    print(f\"Fundamental frequency {i + 1}: {frequency_max:.2f} Hz (amplitude {amplitude_max:.2f})\")"
      ],
      "metadata": {
        "colab": {
          "base_uri": "https://localhost:8080/",
          "height": 573
        },
        "id": "rwWxe0DjkJyo",
        "outputId": "7b5832a1-2bec-4b6e-f53f-e431bc78a8d3"
      },
      "execution_count": null,
      "outputs": [
        {
          "output_type": "stream",
          "name": "stdout",
          "text": [
            "44100\n"
          ]
        },
        {
          "output_type": "display_data",
          "data": {
            "text/plain": [
              "<Figure size 640x480 with 1 Axes>"
            ],
            "image/png": "[encoded data removed]"
          },
          "metadata": {}
        },
        {
          "output_type": "stream",
          "name": "stdout",
          "text": [
            "Fundamental frequency 1: 1.38 Hz (amplitude 1100951835.38)\n",
            "Fundamental frequency 2: 5.49 Hz (amplitude 603256781.54)\n",
            "Fundamental frequency 3: 4.03 Hz (amplitude 495728339.34)\n",
            "Fundamental frequency 4: 3.38 Hz (amplitude 326235656.18)\n",
            "Fundamental frequency 5: 7.35 Hz (amplitude 456149289.20)\n"
          ]
        }
      ]
    },
    {
      "cell_type": "code",
      "source": [
        "import librosa\n",
        "import numpy as np\n",
        "import pydub\n",
        "from scipy.io.wavfile import write\n",
        "\n",
        "# Load .mp3 file\n",
        "path = \"/content/drive/MyDrive/Colab Notebooks/veer-zaara.mp3\"\n",
        "audio = AudioSegment.from_file(path, format=\"mp3\")\n",
        "# Save .wav file\n",
        "wav_filename = \"audio_signal.wav\"\n",
        "audio.export(wav_filename, format=\"wav\")\n",
        "\n",
        "# Load .wav file\n",
        "samples, sr = librosa.load(wav_filename)\n",
        "\n",
        "# Perform Short-Time Fourier Transform (STFT)\n",
        "stft = np.abs(librosa.stft(samples))\n",
        "\n",
        "# Define the frequency ranges for the vocal, bass, and lead\n",
        "vocal_range = (100, 300)\n",
        "bass_range = (20, 100)\n",
        "lead_range = (300, 5000)\n",
        "\n",
        "# Separate the different frequency components\n",
        "vocal_stft = stft.copy()\n",
        "vocal_stft[(stft <= vocal_range[0]) | (stft > vocal_range[1])] = 0\n",
        "\n",
        "bass_stft = stft.copy()\n",
        "bass_stft[(stft <= bass_range[0]) | (stft > bass_range[1])] = 0\n",
        "\n",
        "lead_stft = stft.copy()\n",
        "lead_stft[(stft <= lead_range[0]) | (stft > lead_range[1])] = 0\n",
        "\n",
        "# Convert the STFTs back to the time domain\n",
        "vocal = librosa.istft(vocal_stft)\n",
        "bass = librosa.istft(bass_stft)\n",
        "lead = librosa.istft(lead_stft)\n",
        "\n",
        "# Output each of the separated signals\n",
        "write(\"vocal.wav\", sr, vocal)\n",
        "write(\"bass.wav\", sr, bass)\n",
        "write(\"lead.wav\", sr, lead)"
      ],
      "metadata": {
        "id": "VpKUOccqqnBe"
      },
      "execution_count": null,
      "outputs": []
    },
    {
      "cell_type": "code",
      "source": [],
      "metadata": {
        "id": "546YWSNtkJ6N"
      },
      "execution_count": null,
      "outputs": []
    }
  ]
}