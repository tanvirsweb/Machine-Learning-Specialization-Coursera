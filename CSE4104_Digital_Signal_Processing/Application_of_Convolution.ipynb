{
  "nbformat": 4,
  "nbformat_minor": 0,
  "metadata": {
    "colab": {
      "private_outputs": true,
      "provenance": []
    },
    "kernelspec": {
      "name": "python3",
      "display_name": "Python 3"
    },
    "language_info": {
      "name": "python"
    }
  },
  "cells": [
    {
      "cell_type": "code",
      "execution_count": null,
      "metadata": {
        "id": "GnFjhEavp27h"
      },
      "outputs": [],
      "source": [
        "import numpy as np\n",
        "import matplotlib.pyplot as plt\n",
        "from matplotlib import style"
      ]
    },
    {
      "cell_type": "code",
      "source": [
        "#Create a signal.\n",
        "Srate = 256 # In Hz\n",
        "t = np.arange(0,3,1/Srate)\n",
        "print(t)"
      ],
      "metadata": {
        "collapsed": true,
        "id": "2MLxV16fqW24"
      },
      "execution_count": null,
      "outputs": []
    },
    {
      "cell_type": "code",
      "source": [
        "#Create a noiseless signal\n",
        "x = np.sin(2*np.pi*2*t)\n",
        "#Create a random noise\n",
        "noise = 5*np.random.randn(len(t))\n",
        "print(noise)"
      ],
      "metadata": {
        "collapsed": true,
        "id": "FEaRgvm-qZdn"
      },
      "execution_count": null,
      "outputs": []
    },
    {
      "cell_type": "code",
      "source": [
        "NoisySignal = x+noise"
      ],
      "metadata": {
        "id": "Pf9p8djMqZht"
      },
      "execution_count": null,
      "outputs": []
    },
    {
      "cell_type": "code",
      "source": [
        "#Draw original signal.\n",
        "plt.plot(t,x, color='g')\n",
        "plt.suptitle('Original-Noiless Signal')\n",
        "plt.draw()"
      ],
      "metadata": {
        "id": "a5SWURU_qZl3"
      },
      "execution_count": null,
      "outputs": []
    },
    {
      "cell_type": "code",
      "source": [
        "#Draw original signal.\n",
        "plt.plot(t,NoisySignal, color=(1,0,0))\n",
        "plt.suptitle('Original-Noiless Signal')\n",
        "plt.draw()"
      ],
      "metadata": {
        "id": "_EwRVHVmqZov"
      },
      "execution_count": null,
      "outputs": []
    },
    {
      "cell_type": "code",
      "source": [
        "#Draw original signal.\n",
        "plt.stem(t,x)\n",
        "plt.suptitle('Original-Noiless Signal')\n",
        "plt.draw()"
      ],
      "metadata": {
        "id": "MBKVQabPqZrQ"
      },
      "execution_count": null,
      "outputs": []
    },
    {
      "cell_type": "code",
      "source": [
        "#Design a basic median filter/kernel/impulse\n",
        "filter  = np.ones(50)/10.0"
      ],
      "metadata": {
        "id": "aGMqAQW7w59v"
      },
      "execution_count": null,
      "outputs": []
    },
    {
      "cell_type": "code",
      "source": [
        "filtered_signal = np.convolve(NoisySignal, filter, mode='full')"
      ],
      "metadata": {
        "id": "xhtmqvwmxbE_"
      },
      "execution_count": null,
      "outputs": []
    },
    {
      "cell_type": "code",
      "source": [
        "#Draw original signal.\n",
        "plt.plot(filtered_signal, color='g')\n",
        "plt.suptitle('Filtered Signal')\n",
        "plt.draw()"
      ],
      "metadata": {
        "id": "mCJOnTjbxbH5"
      },
      "execution_count": null,
      "outputs": []
    },
    {
      "cell_type": "code",
      "source": [
        "filtered_signal_2 = np.convolve(filtered_signal, filter, mode='full')"
      ],
      "metadata": {
        "id": "TzUPJIsTxbLS"
      },
      "execution_count": null,
      "outputs": []
    },
    {
      "cell_type": "code",
      "source": [
        "#Draw original signal.\n",
        "plt.plot(filtered_signal_2, color=(1,1,0))\n",
        "plt.suptitle('Double Filtered Signal')\n",
        "plt.draw()"
      ],
      "metadata": {
        "id": "WitNOpeA1jCd"
      },
      "execution_count": null,
      "outputs": []
    },
    {
      "cell_type": "markdown",
      "source": [],
      "metadata": {
        "id": "OVQDEm661dJh"
      }
    }
  ]
}