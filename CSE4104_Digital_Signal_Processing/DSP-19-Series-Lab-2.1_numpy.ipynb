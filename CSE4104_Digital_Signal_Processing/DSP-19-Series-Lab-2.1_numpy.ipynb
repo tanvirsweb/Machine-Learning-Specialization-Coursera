{
 "cells": [
  {
   "cell_type": "markdown",
   "metadata": {},
   "source": [
    "# Numpy\n"
   ]
  },
  {
   "cell_type": "code",
   "execution_count": 17,
   "metadata": {},
   "outputs": [
    {
     "name": "stdout",
     "output_type": "stream",
     "text": [
      "arr: [1 3 5 7]\n",
      "arr.ndim: 1\n",
      "arr.shape: (4,)\n",
      "arr.size:  4\n"
     ]
    }
   ],
   "source": [
    "# numpy --> n dimentional python array (n D) n >=1\n",
    "import numpy as np \n",
    "arr = np.array([1,3,5,7])\n",
    "print(\"arr:\",arr)\n",
    "print(\"arr.ndim:\", arr.ndim)\n",
    "print(\"arr.shape:\", arr.shape)\n",
    "print(\"arr.size: \", arr.size)"
   ]
  },
  {
   "cell_type": "code",
   "execution_count": 18,
   "metadata": {},
   "outputs": [
    {
     "name": "stdout",
     "output_type": "stream",
     "text": [
      "mat2: [[ 1  3  5]\n",
      " [ 2  5  8]\n",
      " [ 5  6 70]]\n",
      "mat2.ndim: 2\n",
      "mat2.shape: (3, 3)\n",
      "mat2.size:  9\n"
     ]
    }
   ],
   "source": [
    "mat2 = np.array([ [1,3,5], [2,5,8], [5,6,70] ])\n",
    "print(\"mat2:\",mat2)\n",
    "print(\"mat2.ndim:\", mat2.ndim)\n",
    "print(\"mat2.shape:\", mat2.shape)\n",
    "print(\"mat2.size: \", mat2.size)"
   ]
  },
  {
   "cell_type": "code",
   "execution_count": 19,
   "metadata": {},
   "outputs": [
    {
     "name": "stdout",
     "output_type": "stream",
     "text": [
      "num Rows: 3\n",
      "num Cols: 3\n",
      "dim= (3, 3) dim[0]= 3 dim[1]= 3\n"
     ]
    }
   ],
   "source": [
    "row, col =mat2.shape # returns a tuple\n",
    "print(\"num Rows:\", row)\n",
    "print(\"num Cols:\", col)\n",
    "\n",
    "dim = mat2.shape\n",
    "print('dim=', dim, 'dim[0]=', dim[0] , 'dim[1]=', dim[1])\n",
    "# hardest work for computer: matrix multiplicaiton\n",
    "# numpy made it easy\n",
    "# GPU only multiply matrix"
   ]
  },
  {
   "cell_type": "code",
   "execution_count": 20,
   "metadata": {},
   "outputs": [
    {
     "name": "stdout",
     "output_type": "stream",
     "text": [
      "[[ 392  145]\n",
      " [ 717  276]\n",
      " [2318 1489]]\n"
     ]
    }
   ],
   "source": [
    "# Deep Learning: need GPU --> Need to multiply matrix\n",
    "mat1 = np.array([ [1, 3, 5], [2, 7, 9], [98, 74, 23] ])\n",
    "mat3 = np.array([ [1, 3], [7, 9], [74, 23] ])\n",
    "\n",
    "mat_1_3 = np.dot(mat1, mat3)\n",
    "print(mat_1_3)"
   ]
  },
  {
   "cell_type": "code",
   "execution_count": 21,
   "metadata": {},
   "outputs": [
    {
     "name": "stdout",
     "output_type": "stream",
     "text": [
      "[[  32   48  379]\n",
      " [  61   95  696]\n",
      " [ 361  802 2692]]\n"
     ]
    }
   ],
   "source": [
    "print( np.matmul(mat1, mat2) )"
   ]
  },
  {
   "cell_type": "code",
   "execution_count": 22,
   "metadata": {},
   "outputs": [
    {
     "name": "stdout",
     "output_type": "stream",
     "text": [
      "[[5.97126184 4.97673374]\n",
      " [6.57507584 5.62040087]\n",
      " [7.74846002 7.30586003]]\n"
     ]
    }
   ],
   "source": [
    "print( np.log(mat_1_3) )"
   ]
  },
  {
   "cell_type": "code",
   "execution_count": 23,
   "metadata": {},
   "outputs": [
    {
     "name": "stdout",
     "output_type": "stream",
     "text": [
      "[1 3 5] [2 7 9] [98 74 23] "
     ]
    }
   ],
   "source": [
    "for i in mat1:\n",
    "    print(i, end=' ')"
   ]
  },
  {
   "cell_type": "code",
   "execution_count": 24,
   "metadata": {},
   "outputs": [
    {
     "name": "stdout",
     "output_type": "stream",
     "text": [
      "1 3 5 \n",
      "2 7 9 \n",
      "98 74 23 \n"
     ]
    }
   ],
   "source": [
    "for i in mat1:\n",
    "    for j in i:\n",
    "        print(j, end=' ')\n",
    "    print()"
   ]
  },
  {
   "cell_type": "markdown",
   "metadata": {},
   "source": [
    "Linear Algebra is used in Matrix <br>\n",
    "Face recognittion used for face recognition --> different Eigen Value for different Face\n"
   ]
  },
  {
   "cell_type": "code",
   "execution_count": null,
   "metadata": {},
   "outputs": [],
   "source": []
  }
 ],
 "metadata": {
  "kernelspec": {
   "display_name": "Python 3",
   "language": "python",
   "name": "python3"
  },
  "language_info": {
   "codemirror_mode": {
    "name": "ipython",
    "version": 3
   },
   "file_extension": ".py",
   "mimetype": "text/x-python",
   "name": "python",
   "nbconvert_exporter": "python",
   "pygments_lexer": "ipython3",
   "version": "3.11.5"
  }
 },
 "nbformat": 4,
 "nbformat_minor": 2
}
